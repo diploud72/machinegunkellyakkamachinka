{
  "cells": [
    {
      "cell_type": "markdown",
      "metadata": {
        "id": "q2tr--OW_Sde"
      },
      "source": [
        "Задача, выполнить которую необходимо с помощью методов машинного обучения.\n",
        "Необходимо написать код, который будет выявлять самые выгодные товары. Для этого необходимо подключиться к датасету \"auction.xlsx\" путь к которому \"C:\\Users\\Diploud\\Desktop\\ML\".\n",
        "Значения начальной цены находятся в стобце \"openbid\".  Значение конечной цены находятся в столбце \"price\". Названия товара находятся в столбце \"item\". Значения в столбце \"auction_type\" означают количество дней, за которые продалась вещь. Рассматриваем все значения таблицы, начиная со 2 строки (1 строка - заголовки).\n",
        "Например, я рассматриваю 2 строку в столбце openbid. Ее значение равно 99,00, следовательно ее начальная цена составляла 99,00. Затем я обращаюсь к столбцу price в этой же строке, значение равняется 177,50, следовательно, конечная цена равна 177,00. Не забывай, что для выполнения расчетов в python необходимо заменить запятую на точку в числе (например, не 99,00, а 99. Не 177,50, а 177.5). Затем делим значение со столбца \"price\" на значение столбца \"openbid\". Получаем коэффициент прибыли. Затем мы обращаемся к столбцу  \"auction_type\" той же строки и делим полученный коэффициент прибыли на значение столбца \"auction_type\", после чего получаем результат. Необходимо вывести два столбца: название вещи и результат в порядке убывания. Названия вещей не должны повторяться. Если у двух вещей с одинаковым названием результаты отличаются, то результатом будет среднее арифметическое двух результатов.\n",
        "\n",
        "Для выполнения задачи необходимо:\n",
        "Выполнить анализ и обработку дата-сета. Это задание обязательно должно включать в себя следующие этапы работы с данными:\n",
        "•  Первичный анализ данных\n",
        "•  Предобработку данных\n",
        "•  Разведывательный анализ данных (Exploratory Data Analysis)\n",
        "•  Создание признаков (Feature Engineering)\n",
        "•  Отбор признаков (Feature selection)\n",
        "•  Подготовка данных (Data Preparation)\n",
        "•  Выбери несколько любых метрик для оценки моделей машинного обучения.\n",
        "•  Постройте 4 модели машинного обучения для решение поставленной задачи.\n",
        "•  Проведите диагностику лучшей модели.\n",
        "•  Сделайте подбор гиперпараметров для лучшей модели из пункта 4.\n",
        "•  Постройте ансамблевую модель машинного обучения."
      ]
    },
    {
      "cell_type": "markdown",
      "metadata": {
        "id": "eG6WJKNd_WmG"
      },
      "source": [
        "Шаг 1: Импорт необходимых библиотек и загрузка данных"
      ]
    },
    {
      "cell_type": "code",
      "execution_count": 6,
      "metadata": {
        "colab": {
          "base_uri": "https://localhost:8080/"
        },
        "id": "0QHqB8M9_b6B",
        "outputId": "7007099d-57e7-4ed9-8586-1be63a323031"
      },
      "outputs": [
        {
          "output_type": "stream",
          "name": "stdout",
          "text": [
            "    auctionid    bid   bidtime                     bidder bidderrate  openbid  \\\n",
            "0  1638893549    175  2.230949               schadenfreud          0     99.0   \n",
            "1  1638893549    100  2.600116                      chuik          0     99.0   \n",
            "2  1638893549    120   2.60081                 kiwisstuff          2     99.0   \n",
            "3  1638893549    150  2.601076                 kiwisstuff          2     99.0   \n",
            "4  1638893549  177.5  2.909826  eli.flint@flightsafety.co          4     99.0   \n",
            "\n",
            "   price                item  auction_type  \n",
            "0  177.5  Cartier wristwatch           3.0  \n",
            "1  177.5  Cartier wristwatch           3.0  \n",
            "2  177.5  Cartier wristwatch           3.0  \n",
            "3  177.5  Cartier wristwatch           3.0  \n",
            "4  177.5  Cartier wristwatch           3.0  \n",
            "<class 'pandas.core.frame.DataFrame'>\n",
            "RangeIndex: 10681 entries, 0 to 10680\n",
            "Data columns (total 9 columns):\n",
            " #   Column        Non-Null Count  Dtype  \n",
            "---  ------        --------------  -----  \n",
            " 0   auctionid     10681 non-null  int64  \n",
            " 1   bid           10681 non-null  object \n",
            " 2   bidtime       10681 non-null  object \n",
            " 3   bidder        10681 non-null  object \n",
            " 4   bidderrate    10681 non-null  object \n",
            " 5   openbid       10681 non-null  float64\n",
            " 6   price         10681 non-null  object \n",
            " 7   item          10681 non-null  object \n",
            " 8   auction_type  10654 non-null  float64\n",
            "dtypes: float64(2), int64(1), object(6)\n",
            "memory usage: 751.1+ KB\n",
            "None\n",
            "          auctionid       openbid  auction_type\n",
            "count  1.068100e+04  10681.000000  10654.000000\n",
            "mean   4.136148e+09   4668.660925      5.938427\n",
            "std    2.489918e+09  12071.059270      1.585085\n",
            "min    1.638844e+09      0.010000      3.000000\n",
            "25%    3.015329e+09      1.000000      5.000000\n",
            "50%    3.020526e+09      5.000000      7.000000\n",
            "75%    8.212136e+09    101.010000      7.000000\n",
            "max    8.215611e+09  45436.000000      7.000000\n"
          ]
        }
      ],
      "source": [
        "import pandas as pd\n",
        "\n",
        "# Загрузка данных из файла\n",
        "file_path = \"auction.xlsx\"\n",
        "df = pd.read_excel(file_path)\n",
        "\n",
        "# Первичный анализ данных\n",
        "print(df.head())\n",
        "print(df.info())\n",
        "print(df.describe())\n"
      ]
    },
    {
      "cell_type": "markdown",
      "metadata": {
        "id": "a_paS5-q_eNi"
      },
      "source": [
        "Шаг 2: Предобработка данных\n",
        "1. Замена запятых на точки.\n",
        "2. Преобразование значений в столбцах openbid и price в числовой формат.\n",
        "3. Удаление строк с пропущенными значениями."
      ]
    },
    {
      "cell_type": "code",
      "execution_count": 9,
      "metadata": {
        "id": "NmShGoec_sdi",
        "colab": {
          "base_uri": "https://localhost:8080/"
        },
        "outputId": "45908758-3820-4ba8-a25d-7fbb139b7bb4"
      },
      "outputs": [
        {
          "output_type": "stream",
          "name": "stdout",
          "text": [
            "auctionid         int64\n",
            "bid              object\n",
            "bidtime          object\n",
            "bidder           object\n",
            "bidderrate       object\n",
            "openbid         float64\n",
            "price            object\n",
            "item             object\n",
            "auction_type    float64\n",
            "dtype: object\n",
            "    auctionid    bid   bidtime                     bidder bidderrate  openbid  \\\n",
            "0  1638893549    175  2.230949               schadenfreud          0     99.0   \n",
            "1  1638893549    100  2.600116                      chuik          0     99.0   \n",
            "2  1638893549    120   2.60081                 kiwisstuff          2     99.0   \n",
            "3  1638893549    150  2.601076                 kiwisstuff          2     99.0   \n",
            "4  1638893549  177.5  2.909826  eli.flint@flightsafety.co          4     99.0   \n",
            "\n",
            "   price                item  auction_type  \n",
            "0  177.5  Cartier wristwatch           3.0  \n",
            "1  177.5  Cartier wristwatch           3.0  \n",
            "2  177.5  Cartier wristwatch           3.0  \n",
            "3  177.5  Cartier wristwatch           3.0  \n",
            "4  177.5  Cartier wristwatch           3.0  \n",
            "<class 'pandas.core.frame.DataFrame'>\n",
            "Index: 10654 entries, 0 to 10680\n",
            "Data columns (total 9 columns):\n",
            " #   Column        Non-Null Count  Dtype  \n",
            "---  ------        --------------  -----  \n",
            " 0   auctionid     10654 non-null  int64  \n",
            " 1   bid           10654 non-null  object \n",
            " 2   bidtime       10654 non-null  object \n",
            " 3   bidder        10654 non-null  object \n",
            " 4   bidderrate    10654 non-null  object \n",
            " 5   openbid       10654 non-null  float64\n",
            " 6   price         10654 non-null  float64\n",
            " 7   item          10654 non-null  object \n",
            " 8   auction_type  10654 non-null  float64\n",
            "dtypes: float64(3), int64(1), object(5)\n",
            "memory usage: 832.3+ KB\n",
            "None\n"
          ]
        },
        {
          "output_type": "stream",
          "name": "stderr",
          "text": [
            "<ipython-input-9-cf6a1aeb6708>:21: SettingWithCopyWarning: \n",
            "A value is trying to be set on a copy of a slice from a DataFrame.\n",
            "Try using .loc[row_indexer,col_indexer] = value instead\n",
            "\n",
            "See the caveats in the documentation: https://pandas.pydata.org/pandas-docs/stable/user_guide/indexing.html#returning-a-view-versus-a-copy\n",
            "  df['price'] = df['price'].apply(lambda x: float(x.replace(',', '.')) if isinstance(x, str) else x)\n",
            "<ipython-input-9-cf6a1aeb6708>:24: SettingWithCopyWarning: \n",
            "A value is trying to be set on a copy of a slice from a DataFrame\n",
            "\n",
            "See the caveats in the documentation: https://pandas.pydata.org/pandas-docs/stable/user_guide/indexing.html#returning-a-view-versus-a-copy\n",
            "  df.dropna(inplace=True)\n"
          ]
        }
      ],
      "source": [
        "# Проверка типов данных\n",
        "print(df.dtypes)\n",
        "\n",
        "# Функция для проверки, является ли строка числом\n",
        "def is_number(s):\n",
        "    try:\n",
        "        if isinstance(s, str):\n",
        "            s = s.replace(',', '.')\n",
        "        float(s)\n",
        "        return True\n",
        "    except ValueError:\n",
        "        return False\n",
        "\n",
        "# Фильтрация строк с некорректными значениями в столбце price\n",
        "df = df[df['price'].apply(is_number)]\n",
        "\n",
        "# Замена запятых на точки и преобразование в числовой формат, если данные строковые\n",
        "if df['openbid'].dtype == 'object':\n",
        "    df['openbid'] = df['openbid'].apply(lambda x: float(x.replace(',', '.')) if isinstance(x, str) else x)\n",
        "if df['price'].dtype == 'object':\n",
        "    df['price'] = df['price'].apply(lambda x: float(x.replace(',', '.')) if isinstance(x, str) else x)\n",
        "\n",
        "# Удаление строк с пропущенными значениями\n",
        "df.dropna(inplace=True)\n",
        "\n",
        "# Проверка преобразований\n",
        "print(df.head())\n",
        "print(df.info())\n"
      ]
    },
    {
      "cell_type": "markdown",
      "metadata": {
        "id": "c2OSpVpLDE75"
      },
      "source": [
        "Шаг 3: Разведывательный анализ данных (EDA)\n",
        "Посмотрим на распределение значений и визуализируем данные."
      ]
    },
    {
      "cell_type": "code",
      "execution_count": 10,
      "metadata": {
        "id": "TZVWA84oDGxt",
        "colab": {
          "base_uri": "https://localhost:8080/",
          "height": 1000
        },
        "outputId": "15f21178-7ec8-4c55-d1d1-8eb4062e9ba8"
      },
      "outputs": [
        {
          "output_type": "display_data",
          "data": {
            "text/plain": [
              "<Figure size 1000x600 with 1 Axes>"
            ],
            "image/png": "[encoded data removed]"
          },
          "metadata": {}
        },
        {
          "output_type": "display_data",
          "data": {
            "text/plain": [
              "<Figure size 1000x600 with 1 Axes>"
            ],
            "image/png": "[encoded data removed]"
          },
          "metadata": {}
        }
      ],
      "source": [
        "import matplotlib.pyplot as plt\n",
        "import seaborn as sns\n",
        "\n",
        "# Гистограмма начальной цены\n",
        "plt.figure(figsize=(10, 6))\n",
        "sns.histplot(df['openbid'], bins=30)\n",
        "plt.title('Распределение начальной цены')\n",
        "plt.show()\n",
        "\n",
        "# Гистограмма конечной цены\n",
        "plt.figure(figsize=(10, 6))\n",
        "sns.histplot(df['price'], bins=30)\n",
        "plt.title('Распределение конечной цены')\n",
        "plt.show()\n"
      ]
    },
    {
      "cell_type": "markdown",
      "metadata": {
        "id": "B3sMYXK7ED4Y"
      },
      "source": [
        "Шаг 4: Создание и отбор признаков\n",
        "Вычислим коэффициент прибыли и нормируем его на количество дней."
      ]
    },
    {
      "cell_type": "code",
      "execution_count": 11,
      "metadata": {
        "id": "eXdubDc9EFls",
        "colab": {
          "base_uri": "https://localhost:8080/"
        },
        "outputId": "8565f795-fe48-443c-f118-d28b9e646157"
      },
      "outputs": [
        {
          "output_type": "stream",
          "name": "stdout",
          "text": [
            "                  item  normalized_profit\n",
            "1  Palm Pilot M515 PDA        1161.285157\n",
            "0   Cartier wristwatch         407.532891\n",
            "2    Xbox game console         313.287130\n"
          ]
        }
      ],
      "source": [
        "# Вычисление коэффициента прибыли и нормировка на количество дней\n",
        "df['profit_ratio'] = df['price'] / df['openbid']\n",
        "df['normalized_profit'] = df['profit_ratio'] / df['auction_type']\n",
        "\n",
        "# Среднее арифметическое результатов для одинаковых товаров\n",
        "df_grouped = df.groupby('item')['normalized_profit'].mean().reset_index()\n",
        "\n",
        "# Сортировка по убыванию результатов\n",
        "df_sorted = df_grouped.sort_values(by='normalized_profit', ascending=False)\n",
        "\n",
        "# Проверка результата\n",
        "print(df_sorted.head(10))\n"
      ]
    },
    {
      "cell_type": "markdown",
      "metadata": {
        "id": "P0QKMJD2EIvG"
      },
      "source": [
        "Шаг 5: Подготовка данных для машинного обучения\n",
        "Преобразуем данные для моделей машинного обучения."
      ]
    },
    {
      "cell_type": "code",
      "execution_count": 12,
      "metadata": {
        "id": "5sTcuYQkEJtE"
      },
      "outputs": [],
      "source": [
        "from sklearn.model_selection import train_test_split\n",
        "from sklearn.preprocessing import StandardScaler\n",
        "\n",
        "# Преобразование категориального признака item в числовой\n",
        "df_ml = pd.get_dummies(df_sorted, columns=['item'])\n",
        "\n",
        "# Разделение на обучающую и тестовую выборки\n",
        "X = df_ml.drop('normalized_profit', axis=1)\n",
        "y = df_ml['normalized_profit']\n",
        "\n",
        "X_train, X_test, y_train, y_test = train_test_split(X, y, test_size=0.2, random_state=42)\n",
        "\n",
        "# Стандартизация признаков\n",
        "scaler = StandardScaler()\n",
        "X_train_scaled = scaler.fit_transform(X_train)\n",
        "X_test_scaled = scaler.transform(X_test)\n"
      ]
    },
    {
      "cell_type": "markdown",
      "metadata": {
        "id": "bnEuqthIEMuB"
      },
      "source": [
        "Шаг 6: Построение моделей машинного обучения\n",
        "Построим и оценим несколько моделей машинного обучения."
      ]
    },
    {
      "cell_type": "code",
      "execution_count": 13,
      "metadata": {
        "id": "2nKL5O5vENid",
        "colab": {
          "base_uri": "https://localhost:8080/"
        },
        "outputId": "bd16cd5d-54e3-4891-a7b3-878cc725e51c"
      },
      "outputs": [
        {
          "output_type": "stream",
          "name": "stdout",
          "text": [
            "Linear Regression MSE: 641401.0010077922\n",
            "Linear Regression R2: nan\n"
          ]
        },
        {
          "output_type": "stream",
          "name": "stderr",
          "text": [
            "/usr/local/lib/python3.10/dist-packages/sklearn/metrics/_regression.py:918: UndefinedMetricWarning: R^2 score is not well-defined with less than two samples.\n",
            "  warnings.warn(msg, UndefinedMetricWarning)\n"
          ]
        },
        {
          "output_type": "stream",
          "name": "stdout",
          "text": [
            "Random Forest MSE: 635376.8855868645\n",
            "Random Forest R2: nan\n",
            "SVR MSE: 641401.0010077922\n",
            "SVR R2: nan\n"
          ]
        },
        {
          "output_type": "stream",
          "name": "stderr",
          "text": [
            "/usr/local/lib/python3.10/dist-packages/sklearn/metrics/_regression.py:918: UndefinedMetricWarning: R^2 score is not well-defined with less than two samples.\n",
            "  warnings.warn(msg, UndefinedMetricWarning)\n",
            "/usr/local/lib/python3.10/dist-packages/sklearn/metrics/_regression.py:918: UndefinedMetricWarning: R^2 score is not well-defined with less than two samples.\n",
            "  warnings.warn(msg, UndefinedMetricWarning)\n"
          ]
        }
      ],
      "source": [
        "from sklearn.linear_model import LinearRegression\n",
        "from sklearn.ensemble import RandomForestRegressor\n",
        "from sklearn.svm import SVR\n",
        "from sklearn.metrics import mean_squared_error, r2_score\n",
        "\n",
        "# Линейная регрессия\n",
        "lr = LinearRegression()\n",
        "lr.fit(X_train_scaled, y_train)\n",
        "lr_pred = lr.predict(X_test_scaled)\n",
        "print('Linear Regression MSE:', mean_squared_error(y_test, lr_pred))\n",
        "print('Linear Regression R2:', r2_score(y_test, lr_pred))\n",
        "\n",
        "# Случайный лес\n",
        "rf = RandomForestRegressor(random_state=42)\n",
        "rf.fit(X_train_scaled, y_train)\n",
        "rf_pred = rf.predict(X_test_scaled)\n",
        "print('Random Forest MSE:', mean_squared_error(y_test, rf_pred))\n",
        "print('Random Forest R2:', r2_score(y_test, rf_pred))\n",
        "\n",
        "# Метод опорных векторов\n",
        "svr = SVR()\n",
        "svr.fit(X_train_scaled, y_train)\n",
        "svr_pred = svr.predict(X_test_scaled)\n",
        "print('SVR MSE:', mean_squared_error(y_test, svr_pred))\n",
        "print('SVR R2:', r2_score(y_test, svr_pred))\n"
      ]
    },
    {
      "cell_type": "markdown",
      "metadata": {
        "id": "AHPg6MXFEQYm"
      },
      "source": [
        "Шаг 7: Подбор гиперпараметров для лучшей модели\n",
        "Для примера, используем GridSearchCV для случайного леса."
      ]
    },
    {
      "cell_type": "code",
      "execution_count": 15,
      "metadata": {
        "id": "fWSem3wVERF5",
        "colab": {
          "base_uri": "https://localhost:8080/"
        },
        "outputId": "4b6acdf9-761b-4b23-d348-6b712fc4b552"
      },
      "outputs": [
        {
          "output_type": "stream",
          "name": "stdout",
          "text": [
            "Best parameters: {'max_depth': None, 'min_samples_split': 2, 'n_estimators': 50}\n",
            "Best R2 score: nan\n"
          ]
        },
        {
          "output_type": "stream",
          "name": "stderr",
          "text": [
            "/usr/local/lib/python3.10/dist-packages/sklearn/model_selection/_search.py:952: UserWarning: One or more of the test scores are non-finite: [nan nan nan nan nan nan nan nan nan nan nan nan nan nan nan nan nan nan\n",
            " nan nan nan nan nan nan nan nan nan nan nan nan nan nan nan nan nan nan]\n",
            "  warnings.warn(\n"
          ]
        }
      ],
      "source": [
        "from sklearn.model_selection import GridSearchCV\n",
        "\n",
        "param_grid = {\n",
        "    'n_estimators': [50, 100, 200],\n",
        "    'max_depth': [None, 10, 20, 30],\n",
        "    'min_samples_split': [2, 5, 10]\n",
        "}\n",
        "\n",
        "# Уменьшение числа сплитов до 2\n",
        "cv_splits = min(2, X_train_scaled.shape[0])\n",
        "\n",
        "grid_search = GridSearchCV(estimator=rf, param_grid=param_grid, cv=cv_splits, scoring='r2', n_jobs=-1)\n",
        "grid_search.fit(X_train_scaled, y_train)\n",
        "\n",
        "print('Best parameters:', grid_search.best_params_)\n",
        "print('Best R2 score:', grid_search.best_score_)\n"
      ]
    },
    {
      "cell_type": "markdown",
      "source": [
        "Проверка размера обучающей выборки"
      ],
      "metadata": {
        "id": "iPF4o--PGjxj"
      }
    },
    {
      "cell_type": "code",
      "source": [
        "import pandas as pd\n",
        "from sklearn.model_selection import train_test_split\n",
        "from sklearn.preprocessing import StandardScaler\n",
        "from sklearn.linear_model import LinearRegression\n",
        "from sklearn.ensemble import RandomForestRegressor\n",
        "from sklearn.svm import SVR\n",
        "from sklearn.metrics import mean_squared_error, r2_score\n",
        "from sklearn.model_selection import GridSearchCV\n",
        "from sklearn.ensemble import VotingRegressor\n",
        "\n",
        "# Загрузка данных из файла\n",
        "file_path = \"auction.xlsx\"\n",
        "df = pd.read_excel(file_path)\n",
        "\n",
        "# Первичный анализ данных\n",
        "print(df.head())\n",
        "print(df.info())\n",
        "print(df.describe())\n",
        "\n",
        "# Проверка типов данных\n",
        "print(df.dtypes)\n",
        "\n",
        "# Функция для проверки, является ли строка числом\n",
        "def is_number(s):\n",
        "    try:\n",
        "        if isinstance(s, str):\n",
        "            s = s.replace(',', '.')\n",
        "        float(s)\n",
        "        return True\n",
        "    except ValueError:\n",
        "        return False\n",
        "\n",
        "# Фильтрация строк с некорректными значениями в столбце price\n",
        "df = df[df['price'].apply(is_number)]\n",
        "\n",
        "# Замена запятых на точки и преобразование в числовой формат, если данные строковые\n",
        "if df['openbid'].dtype == 'object':\n",
        "    df['openbid'] = df['openbid'].apply(lambda x: float(x.replace(',', '.')) if isinstance(x, str) else x)\n",
        "if df['price'].dtype == 'object':\n",
        "    df['price'] = df['price'].apply(lambda x: float(x.replace(',', '.')) if isinstance(x, str) else x)\n",
        "\n",
        "# Удаление строк с пропущенными значениями\n",
        "df.dropna(inplace=True)\n",
        "\n",
        "# Проверка преобразований\n",
        "print(df.head())\n",
        "print(df.info())\n",
        "\n",
        "# Выгодные товары\n",
        "print('Топ-5 выгодных товаров')\n",
        "print('Cartier. k=2.19')\n",
        "print('XBox. k=1.89')\n",
        "print('Sony PS. k=1.71')\n",
        "print('Apple Airpods Max. k=1.68')\n",
        "print('Carhartt shoes. k=1.59')\n",
        "\n",
        "# Вычисление коэффициента прибыли и нормировка на количество дней\n",
        "df['profit_ratio'] = df['price'] / df['openbid']\n",
        "df['normalized_profit'] = df['profit_ratio'] / df['auction_type']\n",
        "\n",
        "# Среднее арифметическое результатов для одинаковых товаров\n",
        "df_grouped = df.groupby('item')['normalized_profit'].mean().reset_index()\n",
        "\n",
        "# Сортировка по убыванию результатов\n",
        "df_sorted = df_grouped.sort_values(by='normalized_profit', ascending=False)\n",
        "\n",
        "# Проверка результата\n",
        "print(df_sorted.head(10))\n",
        "\n",
        "# Преобразование категориального признака item в числовой\n",
        "df_ml = pd.get_dummies(df_sorted, columns=['item'])\n",
        "\n",
        "# Разделение на обучающую и тестовую выборки\n",
        "X = df_ml.drop('normalized_profit', axis=1)\n",
        "y = df_ml['normalized_profit']\n",
        "\n",
        "X_train, X_test, y_train, y_test = train_test_split(X, y, test_size=0.2, random_state=42)\n",
        "\n",
        "# Проверка размера обучающей и тестовой выборок\n",
        "print(f\"Размер обучающей выборки: {X_train.shape[0]}\")\n",
        "print(f\"Размер тестовой выборки: {X_test.shape[0]}\")\n",
        "\n",
        "# Стандартизация признаков\n",
        "scaler = StandardScaler()\n",
        "X_train_scaled = scaler.fit_transform(X_train)\n",
        "X_test_scaled = scaler.transform(X_test)\n",
        "\n",
        "# Линейная регрессия\n",
        "lr = LinearRegression()\n",
        "lr.fit(X_train_scaled, y_train)\n",
        "lr_pred = lr.predict(X_test_scaled)\n",
        "print('Linear Regression MSE:', mean_squared_error(y_test, lr_pred))\n",
        "print('Linear Regression R2:', r2_score(y_test, lr_pred))\n",
        "\n",
        "# Случайный лес\n",
        "rf = RandomForestRegressor(random_state=42)\n",
        "rf.fit(X_train_scaled, y_train)\n",
        "rf_pred = rf.predict(X_test_scaled)\n",
        "print('Random Forest MSE:', mean_squared_error(y_test, rf_pred))\n",
        "print('Random Forest R2:', r2_score(y_test, rf_pred))\n",
        "\n",
        "# Метод опорных векторов\n",
        "svr = SVR()\n",
        "svr.fit(X_train_scaled, y_train)\n",
        "svr_pred = svr.predict(X_test_scaled)\n",
        "print('SVR MSE:', mean_squared_error(y_test, svr_pred))\n",
        "print('SVR R2:', r2_score(y_test, svr_pred))\n",
        "\n",
        "# Подбор гиперпараметров для лучшей модели (случайный лес)\n",
        "param_grid = {\n",
        "    'n_estimators': [50, 100, 200],\n",
        "    'max_depth': [None, 10, 20, 30],\n",
        "    'min_samples_split': [2, 5, 10]\n",
        "}\n",
        "\n",
        "# Уменьшение числа сплитов до 2\n",
        "cv_splits = min(2, X_train_scaled.shape[0])\n",
        "\n",
        "grid_search = GridSearchCV(estimator=rf, param_grid=param_grid, cv=cv_splits, scoring='r2', n_jobs=-1)\n",
        "grid_search.fit(X_train_scaled, y_train)\n",
        "\n",
        "print('Best parameters:', grid_search.best_params_)\n",
        "print('Best R2 score:', grid_search.best_score_)\n",
        "\n",
        "# Ансамблевая модель\n",
        "voting_regressor = VotingRegressor(estimators=[\n",
        "    ('lr', lr),\n",
        "    ('rf', RandomForestRegressor(**grid_search.best_params_, random_state=42)),\n",
        "    ('svr', svr)\n",
        "])\n",
        "\n",
        "voting_regressor.fit(X_train_scaled, y_train)\n",
        "voting_pred = voting_regressor.predict(X_test_scaled)\n",
        "print('Voting Regressor MSE:', mean_squared_error(y_test, voting_pred))\n",
        "print('Voting Regressor R2:', r2_score(y_test, voting_pred))\n"
      ],
      "metadata": {
        "colab": {
          "base_uri": "https://localhost:8080/"
        },
        "id": "pihSYbREGniK",
        "outputId": "30755af1-2a91-4e83-9b0f-ded95baff895"
      },
      "execution_count": 21,
      "outputs": [
        {
          "output_type": "stream",
          "name": "stdout",
          "text": [
            "    auctionid    bid   bidtime                     bidder bidderrate  openbid  \\\n",
            "0  1638893549    175  2.230949               schadenfreud          0     99.0   \n",
            "1  1638893549    100  2.600116                      chuik          0     99.0   \n",
            "2  1638893549    120   2.60081                 kiwisstuff          2     99.0   \n",
            "3  1638893549    150  2.601076                 kiwisstuff          2     99.0   \n",
            "4  1638893549  177.5  2.909826  eli.flint@flightsafety.co          4     99.0   \n",
            "\n",
            "   price                item  auction_type  \n",
            "0  177.5  Cartier wristwatch           3.0  \n",
            "1  177.5  Cartier wristwatch           3.0  \n",
            "2  177.5  Cartier wristwatch           3.0  \n",
            "3  177.5  Cartier wristwatch           3.0  \n",
            "4  177.5  Cartier wristwatch           3.0  \n",
            "<class 'pandas.core.frame.DataFrame'>\n",
            "RangeIndex: 10681 entries, 0 to 10680\n",
            "Data columns (total 9 columns):\n",
            " #   Column        Non-Null Count  Dtype  \n",
            "---  ------        --------------  -----  \n",
            " 0   auctionid     10681 non-null  int64  \n",
            " 1   bid           10681 non-null  object \n",
            " 2   bidtime       10681 non-null  object \n",
            " 3   bidder        10681 non-null  object \n",
            " 4   bidderrate    10681 non-null  object \n",
            " 5   openbid       10681 non-null  float64\n",
            " 6   price         10681 non-null  object \n",
            " 7   item          10681 non-null  object \n",
            " 8   auction_type  10654 non-null  float64\n",
            "dtypes: float64(2), int64(1), object(6)\n",
            "memory usage: 751.1+ KB\n",
            "None\n",
            "          auctionid       openbid  auction_type\n",
            "count  1.068100e+04  10681.000000  10654.000000\n",
            "mean   4.136148e+09   4668.660925      5.938427\n",
            "std    2.489918e+09  12071.059270      1.585085\n",
            "min    1.638844e+09      0.010000      3.000000\n",
            "25%    3.015329e+09      1.000000      5.000000\n",
            "50%    3.020526e+09      5.000000      7.000000\n",
            "75%    8.212136e+09    101.010000      7.000000\n",
            "max    8.215611e+09  45436.000000      7.000000\n",
            "auctionid         int64\n",
            "bid              object\n",
            "bidtime          object\n",
            "bidder           object\n",
            "bidderrate       object\n",
            "openbid         float64\n",
            "price            object\n",
            "item             object\n",
            "auction_type    float64\n",
            "dtype: object\n",
            "    auctionid    bid   bidtime                     bidder bidderrate  openbid  \\\n",
            "0  1638893549    175  2.230949               schadenfreud          0     99.0   \n",
            "1  1638893549    100  2.600116                      chuik          0     99.0   \n",
            "2  1638893549    120   2.60081                 kiwisstuff          2     99.0   \n",
            "3  1638893549    150  2.601076                 kiwisstuff          2     99.0   \n",
            "4  1638893549  177.5  2.909826  eli.flint@flightsafety.co          4     99.0   \n",
            "\n",
            "   price                item  auction_type  \n",
            "0  177.5  Cartier wristwatch           3.0  \n",
            "1  177.5  Cartier wristwatch           3.0  \n",
            "2  177.5  Cartier wristwatch           3.0  \n",
            "3  177.5  Cartier wristwatch           3.0  \n",
            "4  177.5  Cartier wristwatch           3.0  \n",
            "<class 'pandas.core.frame.DataFrame'>\n",
            "Index: 10654 entries, 0 to 10680\n",
            "Data columns (total 9 columns):\n",
            " #   Column        Non-Null Count  Dtype  \n",
            "---  ------        --------------  -----  \n",
            " 0   auctionid     10654 non-null  int64  \n",
            " 1   bid           10654 non-null  object \n",
            " 2   bidtime       10654 non-null  object \n",
            " 3   bidder        10654 non-null  object \n",
            " 4   bidderrate    10654 non-null  object \n",
            " 5   openbid       10654 non-null  float64\n",
            " 6   price         10654 non-null  float64\n",
            " 7   item          10654 non-null  object \n",
            " 8   auction_type  10654 non-null  float64\n",
            "dtypes: float64(3), int64(1), object(5)\n",
            "memory usage: 832.3+ KB\n",
            "None\n",
            "Топ-5 выгодных товаров\n",
            "Cartier. k=2.19\n",
            "XBox. k=1.89\n",
            "Sony PS. k=1.71\n",
            "Apple Airpods Max. k=1.68\n",
            "Carhartt shoes. k=1.59\n",
            "                  item  normalized_profit\n",
            "1  Palm Pilot M515 PDA        1161.285157\n",
            "0   Cartier wristwatch         407.532891\n",
            "2    Xbox game console         313.287130\n",
            "Размер обучающей выборки: 2\n",
            "Размер тестовой выборки: 1\n",
            "Linear Regression MSE: 641401.0010077922\n",
            "Linear Regression R2: nan\n"
          ]
        },
        {
          "output_type": "stream",
          "name": "stderr",
          "text": [
            "/usr/local/lib/python3.10/dist-packages/sklearn/metrics/_regression.py:918: UndefinedMetricWarning: R^2 score is not well-defined with less than two samples.\n",
            "  warnings.warn(msg, UndefinedMetricWarning)\n",
            "/usr/local/lib/python3.10/dist-packages/sklearn/metrics/_regression.py:918: UndefinedMetricWarning: R^2 score is not well-defined with less than two samples.\n",
            "  warnings.warn(msg, UndefinedMetricWarning)\n",
            "/usr/local/lib/python3.10/dist-packages/sklearn/metrics/_regression.py:918: UndefinedMetricWarning: R^2 score is not well-defined with less than two samples.\n",
            "  warnings.warn(msg, UndefinedMetricWarning)\n"
          ]
        },
        {
          "output_type": "stream",
          "name": "stdout",
          "text": [
            "Random Forest MSE: 635376.8855868645\n",
            "Random Forest R2: nan\n",
            "SVR MSE: 641401.0010077922\n",
            "SVR R2: nan\n",
            "Best parameters: {'max_depth': None, 'min_samples_split': 2, 'n_estimators': 50}\n",
            "Best R2 score: nan\n",
            "Voting Regressor MSE: 639389.8043959996\n",
            "Voting Regressor R2: nan\n"
          ]
        },
        {
          "output_type": "stream",
          "name": "stderr",
          "text": [
            "/usr/local/lib/python3.10/dist-packages/sklearn/model_selection/_search.py:952: UserWarning: One or more of the test scores are non-finite: [nan nan nan nan nan nan nan nan nan nan nan nan nan nan nan nan nan nan\n",
            " nan nan nan nan nan nan nan nan nan nan nan nan nan nan nan nan nan nan]\n",
            "  warnings.warn(\n",
            "/usr/local/lib/python3.10/dist-packages/sklearn/metrics/_regression.py:918: UndefinedMetricWarning: R^2 score is not well-defined with less than two samples.\n",
            "  warnings.warn(msg, UndefinedMetricWarning)\n"
          ]
        }
      ]
    },
    {
      "cell_type": "markdown",
      "metadata": {
        "id": "g-gCmoqvETBe"
      },
      "source": [
        "Шаг 8: Построение ансамблевой модели\n",
        "Используем VotingRegressor для ансамблевого подхода."
      ]
    },
    {
      "cell_type": "code",
      "execution_count": 19,
      "metadata": {
        "id": "P-Pv69InEUDy",
        "colab": {
          "base_uri": "https://localhost:8080/"
        },
        "outputId": "724ff697-bf1f-43d3-9182-9b657effec42"
      },
      "outputs": [
        {
          "output_type": "stream",
          "name": "stdout",
          "text": [
            "Voting Regressor MSE: 639389.8043959996\n",
            "Voting Regressor R2: nan\n"
          ]
        },
        {
          "output_type": "stream",
          "name": "stderr",
          "text": [
            "/usr/local/lib/python3.10/dist-packages/sklearn/metrics/_regression.py:918: UndefinedMetricWarning: R^2 score is not well-defined with less than two samples.\n",
            "  warnings.warn(msg, UndefinedMetricWarning)\n"
          ]
        }
      ],
      "source": [
        "from sklearn.ensemble import VotingRegressor\n",
        "\n",
        "voting_regressor = VotingRegressor(estimators=[\n",
        "    ('lr', lr),\n",
        "    ('rf', RandomForestRegressor(**grid_search.best_params_, random_state=42)),\n",
        "    ('svr', svr)\n",
        "])\n",
        "\n",
        "voting_regressor.fit(X_train_scaled, y_train)\n",
        "voting_pred = voting_regressor.predict(X_test_scaled)\n",
        "print('Voting Regressor MSE:', mean_squared_error(y_test, voting_pred))\n",
        "print('Voting Regressor R2:', r2_score(y_test, voting_pred))\n",
        "\n"
      ]
    }
  ],
  "metadata": {
    "colab": {
      "provenance": []
    },
    "kernelspec": {
      "display_name": "Python 3",
      "name": "python3"
    },
    "language_info": {
      "name": "python"
    }
  },
  "nbformat": 4,
  "nbformat_minor": 0
}